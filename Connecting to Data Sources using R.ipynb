{
 "cells": [
  {
   "cell_type": "code",
   "execution_count": null,
   "metadata": {},
   "outputs": [],
   "source": [
    "######################### Connecting to CSV files with R #####################################\n",
    "\n",
    "# Csv Files are comma separated value files. \n",
    "# creating a csv file in R \n",
    "write.csv(USArrests , file = Usarrests.csv)\n",
    "# USArrests is a R  built-in dataset \n",
    "# file should have the name of the output file you want to have , so basically we are creating a csv file and saving it , using the USArrests dataset. \n",
    "\n",
    "# connecting to a csv file that is in your working directory. \n",
    "read.csv(''#your file name.csv'), or put the file path \n",
    "         "
   ]
  },
  {
   "cell_type": "code",
   "execution_count": 2,
   "metadata": {},
   "outputs": [
    {
     "name": "stderr",
     "output_type": "stream",
     "text": [
      "Installing package into 'C:/Users/Aisha/Documents/R/win-library/3.6'\n",
      "(as 'lib' is unspecified)\n",
      "\n",
      "Warning message:\n",
      "\"package 'readxl' is in use and will not be installed\"\n"
     ]
    }
   ],
   "source": [
    "######################## connecting to excel files with R #######################################\n",
    "\n",
    "# Before working with excel files , we should install and load a library called readxl \n",
    "\n",
    "install.packages('readxl') # installing the library\n",
    "library(readxl) # loading the library \n",
    "\n",
    "# NOW , connecting to the file \n",
    "excel_sheets('') # put your excel file name or the file path # this will list the sheets that are within the excel file.\n",
    "\n",
    "# Saving the file as a data frame \n",
    "dataframe <- read_excel('your file name or file path' , sheet = specify the sheet name , ex: Sheet1) \n",
    "# PS : EACH EXCEL SHEET SHOULD BE IMPORTED SEPARATELY AS A DATA FRAME AND ONCE YOU HAVE ALL THE SHEETS IMPORTED AND THE DATA FRAMES CREATED YOU CAN THEN CREATE A LIST THAT CONTAINS THESE DATA FRAMES \n",
    "\n",
    "\n",
    "# Creating an excel file in R \n",
    "# as we did with the csv file , we can output a built-in dataset or a dataframe we have worked with to an excel file \n",
    "write.xlsx <- (mtcars , \"the excel file name.xlsx\")\n"
   ]
  },
  {
   "cell_type": "code",
   "execution_count": null,
   "metadata": {},
   "outputs": [],
   "source": [
    "########################### connecting to SQL(DATABASES)#############################################\n",
    "\n",
    "# As in the previous cases , we should install and load a library to be able to work with SQL files and so with databases. \n",
    "\n",
    "install.packages(\"RODBC\") # installing the library RODBC which is a way of connecting to databases \n",
    "library(RODBC) # loading the library \n",
    "myconnection <- odbcConnect(\"Database_name\" , uid = \"User_ID\" , pwd= \"password\") # odbcConnect is the function used to directly connect to the database after specifiying the necessary credentials \n",
    "data <- sqlFetch(myconnection , \"Table_name\") # after connecting to the database select from the database , the table you want to work with \n",
    "querydata <- sqlQuery(data , \"SELECT * FROM TABLE\") # selecting the items you want from the table , specifying the query\n",
    "\n",
    "# Libraries to work with databases \n",
    "# FOR MYSQL ----- > RMySQL \n",
    "# ORACLE -------> ROracle \n",
    "#JDBC -------> RJDBC \n",
    "## AMONG MANY OTHERS #########\n",
    "\n"
   ]
  },
  {
   "cell_type": "code",
   "execution_count": null,
   "metadata": {},
   "outputs": [],
   "source": []
  }
 ],
 "metadata": {
  "kernelspec": {
   "display_name": "R",
   "language": "R",
   "name": "ir"
  },
  "language_info": {
   "codemirror_mode": "r",
   "file_extension": ".r",
   "mimetype": "text/x-r-source",
   "name": "R",
   "pygments_lexer": "r",
   "version": "3.6.2"
  }
 },
 "nbformat": 4,
 "nbformat_minor": 2
}
